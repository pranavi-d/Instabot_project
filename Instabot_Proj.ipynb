{
 "cells": [
  {
   "cell_type": "code",
   "execution_count": null,
   "id": "98273bdf",
   "metadata": {},
   "outputs": [],
   "source": [
    "# Import instabot library\n",
    "from instabot import Bot"
   ]
  },
  {
   "cell_type": "code",
   "execution_count": null,
   "id": "de977bc2",
   "metadata": {},
   "outputs": [],
   "source": [
    "#post a Photo\n",
    "bot = Bot()\n",
    "bot.login(username=\"your_userid\", password=\"your_password\")\n",
    "img = \"photo.jpg\"   # give the path and name if it is in different directory\n",
    "bot.upload_photo(img, caption=\"(...\")"
   ]
  },
  {
   "cell_type": "code",
   "execution_count": null,
   "id": "f4abab4c",
   "metadata": {},
   "outputs": [],
   "source": [
    "#follow users\n",
    "from instabot import Bot\n",
    "\n",
    "bot = Bot()\n",
    "\n",
    "bot.login(username=\"your_userid\", password=\"your_password\")\n",
    "\n",
    "# To follow a single user.\n",
    "bot.follow(\"username\")\n",
    "# To follow more users.\n",
    "list_of_user = [\"userId1\", \"userId2\", \"userId3\", \"....\"] bot.follow_users(list_of_user)"
   ]
  },
  {
   "cell_type": "code",
   "execution_count": null,
   "id": "82e6f332",
   "metadata": {},
   "outputs": [],
   "source": [
    "#to unfollow user\n",
    "bot = Bot()\n",
    "bot.login(username=\"your_username\", password=\"your_password\")\n",
    "\n",
    "# To unfollow a single user.\n",
    "bot.unfollow(\"username\")\n",
    "# To unfollow more users.\n",
    "unfollow_list = [\"userId1\", \"userId2\", \"userId3\", \"...\"]\n",
    "bot.unfollow_users(unfollow_list)"
   ]
  },
  {
   "cell_type": "code",
   "execution_count": null,
   "id": "ee1066aa",
   "metadata": {},
   "outputs": [],
   "source": [
    "#To unfollow Everyone\n",
    "bot = Bot()\n",
    "bot.login(username=\"your_username\", password=\"your_password\")\n",
    "\n",
    "# To unfollow everyone use:\n",
    "# Please Note that using this will remove all your followings\n",
    "bot.unfollow_everyone()"
   ]
  },
  {
   "cell_type": "code",
   "execution_count": null,
   "id": "d34bbe94",
   "metadata": {},
   "outputs": [],
   "source": [
    "#count the number of followers for a user\n",
    "bot = Bot()\n",
    "bot.login(username=\"your_username\", password=\"your_password\")\n",
    "\n",
    "# Count number of followers\n",
    "followers = bot.get_user_followers(\"username\")\n",
    "print(\"Total number of followers:\")\n",
    "print(len(followers))"
   ]
  },
  {
   "cell_type": "code",
   "execution_count": null,
   "id": "acd6fca7",
   "metadata": {},
   "outputs": [],
   "source": [
    "#like and comment on a post\n",
    "bot = Bot()\n",
    "bot.login(username=\"your_username\", password=\"your_password\")\n",
    "\n",
    "post_link = \"https://www.instagram.com/p/CWqleONFg4/\"   # enter the post link\n",
    "post = bot.get_media_id_from_link(post_link)\n",
    "\n",
    "# like\n",
    "bot.like(post)\n",
    "\n",
    "# comment\n",
    "bot.comment(post, \"Comments ..\")"
   ]
  },
  {
   "cell_type": "code",
   "execution_count": null,
   "id": "fd368386",
   "metadata": {},
   "outputs": [],
   "source": [
    "bot = Bot()\n",
    "bot.login(username=\"your_username\", password=\"your_password\")\n",
    "\n",
    "# To send messages to a single user.\n",
    "message = \"Hello, Thanks for the gift\"\n",
    "bot.send_message(message, \"username\")"
   ]
  }
 ],
 "metadata": {
  "kernelspec": {
   "display_name": "Python 3 (ipykernel)",
   "language": "python",
   "name": "python3"
  },
  "language_info": {
   "codemirror_mode": {
    "name": "ipython",
    "version": 3
   },
   "file_extension": ".py",
   "mimetype": "text/x-python",
   "name": "python",
   "nbconvert_exporter": "python",
   "pygments_lexer": "ipython3",
   "version": "3.10.9"
  }
 },
 "nbformat": 4,
 "nbformat_minor": 5
}
